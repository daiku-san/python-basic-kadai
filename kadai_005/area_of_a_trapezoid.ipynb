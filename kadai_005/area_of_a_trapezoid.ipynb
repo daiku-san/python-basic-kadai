{
  "nbformat": 4,
  "nbformat_minor": 0,
  "metadata": {
    "colab": {
      "provenance": []
    },
    "kernelspec": {
      "name": "python3",
      "display_name": "Python 3"
    },
    "language_info": {
      "name": "python"
    }
  },
  "cells": [
    {
      "cell_type": "code",
      "execution_count": 1,
      "metadata": {
        "colab": {
          "base_uri": "https://localhost:8080/",
          "height": 35
        },
        "id": "puCYKtLBGLtB",
        "outputId": "13f67b0a-50c7-4194-8d21-cc502f5ad277"
      },
      "outputs": [
        {
          "output_type": "execute_result",
          "data": {
            "text/plain": [
              "'\\n下記の台形の面積の計算結果を出力するプログラムを記述してください。\\n出力結果は「◯◯cm²」となるように単位をつけてください。\\n\\n上辺：10cm\\n下辺：20cm\\n高さ：5cm\\n\\n公式：台形の面積 =（上辺＋下辺）× 高さ ÷ 2\\n'"
            ],
            "application/vnd.google.colaboratory.intrinsic+json": {
              "type": "string"
            }
          },
          "metadata": {},
          "execution_count": 1
        }
      ],
      "source": [
        "\"\"\"\n",
        "下記の台形の面積の計算結果を出力するプログラムを記述してください。\n",
        "出力結果は「◯◯cm²」となるように単位をつけてください。\n",
        "\n",
        "上辺：10cm\n",
        "下辺：20cm\n",
        "高さ：5cm\n",
        "\n",
        "公式：台形の面積 =（上辺＋下辺）× 高さ ÷ 2\n",
        "\"\"\""
      ]
    },
    {
      "cell_type": "code",
      "source": [
        "top = 10\n",
        "bottom = 20\n",
        "hight = 5\n",
        "\n",
        "area_of_a_trapezoid = (top + bottom) * hight / 2\n",
        "\n",
        "print(str(area_of_a_trapezoid) + 'cm²')"
      ],
      "metadata": {
        "colab": {
          "base_uri": "https://localhost:8080/",
          "height": 0
        },
        "id": "KtrlDRTRGffr",
        "outputId": "1c8a2384-0421-4b7f-8943-f017fee2f37b"
      },
      "execution_count": 13,
      "outputs": [
        {
          "output_type": "stream",
          "name": "stdout",
          "text": [
            "75.0cm²\n"
          ]
        }
      ]
    }
  ]
}